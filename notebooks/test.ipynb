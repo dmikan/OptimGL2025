{
 "cells": [
  {
   "cell_type": "code",
   "execution_count": 1,
   "metadata": {},
   "outputs": [],
   "source": [
    "import pandas as pd"
   ]
  },
  {
   "cell_type": "code",
   "execution_count": 9,
   "metadata": {},
   "outputs": [],
   "source": [
    "# read a csv file\n",
    "df = pd.read_csv('data/gl_kanu_data.csv', sep=',')"
   ]
  },
  {
   "cell_type": "code",
   "execution_count": 10,
   "metadata": {},
   "outputs": [
    {
     "data": {
      "text/html": [
       "<div>\n",
       "<style scoped>\n",
       "    .dataframe tbody tr th:only-of-type {\n",
       "        vertical-align: middle;\n",
       "    }\n",
       "\n",
       "    .dataframe tbody tr th {\n",
       "        vertical-align: top;\n",
       "    }\n",
       "\n",
       "    .dataframe thead th {\n",
       "        text-align: right;\n",
       "    }\n",
       "</style>\n",
       "<table border=\"1\" class=\"dataframe\">\n",
       "  <thead>\n",
       "    <tr style=\"text-align: right;\">\n",
       "      <th></th>\n",
       "      <th>index</th>\n",
       "      <th>q_ing_w1</th>\n",
       "      <th>fluid_w1</th>\n",
       "      <th>q_ing_w2</th>\n",
       "      <th>fluid_w2</th>\n",
       "      <th>q_ing_w3</th>\n",
       "      <th>fluid_w3</th>\n",
       "      <th>q_ing_w4</th>\n",
       "      <th>fluid_w4</th>\n",
       "      <th>q_ing_w5</th>\n",
       "      <th>fluid_w5</th>\n",
       "      <th>q_ing_w6</th>\n",
       "      <th>fluid_w6</th>\n",
       "    </tr>\n",
       "  </thead>\n",
       "  <tbody>\n",
       "    <tr>\n",
       "      <th>0</th>\n",
       "      <td>1</td>\n",
       "      <td>2.84</td>\n",
       "      <td>1420</td>\n",
       "      <td>2.62</td>\n",
       "      <td>1310</td>\n",
       "      <td>3.32</td>\n",
       "      <td>1660</td>\n",
       "      <td>3.90</td>\n",
       "      <td>1950</td>\n",
       "      <td>3.51</td>\n",
       "      <td>1755</td>\n",
       "      <td>3.70</td>\n",
       "      <td>1850</td>\n",
       "    </tr>\n",
       "    <tr>\n",
       "      <th>1</th>\n",
       "      <td>2</td>\n",
       "      <td>1.66</td>\n",
       "      <td>1660</td>\n",
       "      <td>1.42</td>\n",
       "      <td>1420</td>\n",
       "      <td>1.85</td>\n",
       "      <td>1850</td>\n",
       "      <td>1.99</td>\n",
       "      <td>1990</td>\n",
       "      <td>1.83</td>\n",
       "      <td>1830</td>\n",
       "      <td>2.25</td>\n",
       "      <td>2250</td>\n",
       "    </tr>\n",
       "    <tr>\n",
       "      <th>2</th>\n",
       "      <td>3</td>\n",
       "      <td>1.34</td>\n",
       "      <td>1680</td>\n",
       "      <td>1.14</td>\n",
       "      <td>1430</td>\n",
       "      <td>1.50</td>\n",
       "      <td>1875</td>\n",
       "      <td>1.57</td>\n",
       "      <td>1960</td>\n",
       "      <td>1.47</td>\n",
       "      <td>1835</td>\n",
       "      <td>1.85</td>\n",
       "      <td>2310</td>\n",
       "    </tr>\n",
       "    <tr>\n",
       "      <th>3</th>\n",
       "      <td>4</td>\n",
       "      <td>1.02</td>\n",
       "      <td>1700</td>\n",
       "      <td>0.85</td>\n",
       "      <td>1415</td>\n",
       "      <td>1.13</td>\n",
       "      <td>1880</td>\n",
       "      <td>1.14</td>\n",
       "      <td>1900</td>\n",
       "      <td>1.07</td>\n",
       "      <td>1790</td>\n",
       "      <td>1.43</td>\n",
       "      <td>2380</td>\n",
       "    </tr>\n",
       "    <tr>\n",
       "      <th>4</th>\n",
       "      <td>5</td>\n",
       "      <td>0.66</td>\n",
       "      <td>1660</td>\n",
       "      <td>0.53</td>\n",
       "      <td>1330</td>\n",
       "      <td>0.74</td>\n",
       "      <td>1480</td>\n",
       "      <td>0.70</td>\n",
       "      <td>1750</td>\n",
       "      <td>0.68</td>\n",
       "      <td>1700</td>\n",
       "      <td>0.96</td>\n",
       "      <td>2390</td>\n",
       "    </tr>\n",
       "    <tr>\n",
       "      <th>5</th>\n",
       "      <td>6</td>\n",
       "      <td>0.34</td>\n",
       "      <td>1330</td>\n",
       "      <td>0.16</td>\n",
       "      <td>800</td>\n",
       "      <td>0.27</td>\n",
       "      <td>1330</td>\n",
       "      <td>0.24</td>\n",
       "      <td>1200</td>\n",
       "      <td>0.22</td>\n",
       "      <td>1120</td>\n",
       "      <td>0.37</td>\n",
       "      <td>1850</td>\n",
       "    </tr>\n",
       "  </tbody>\n",
       "</table>\n",
       "</div>"
      ],
      "text/plain": [
       "   index  q_ing_w1  fluid_w1  q_ing_w2  fluid_w2  q_ing_w3  fluid_w3  \\\n",
       "0      1      2.84      1420      2.62      1310      3.32      1660   \n",
       "1      2      1.66      1660      1.42      1420      1.85      1850   \n",
       "2      3      1.34      1680      1.14      1430      1.50      1875   \n",
       "3      4      1.02      1700      0.85      1415      1.13      1880   \n",
       "4      5      0.66      1660      0.53      1330      0.74      1480   \n",
       "5      6      0.34      1330      0.16       800      0.27      1330   \n",
       "\n",
       "   q_ing_w4  fluid_w4  q_ing_w5  fluid_w5  q_ing_w6  fluid_w6  \n",
       "0      3.90      1950      3.51      1755      3.70      1850  \n",
       "1      1.99      1990      1.83      1830      2.25      2250  \n",
       "2      1.57      1960      1.47      1835      1.85      2310  \n",
       "3      1.14      1900      1.07      1790      1.43      2380  \n",
       "4      0.70      1750      0.68      1700      0.96      2390  \n",
       "5      0.24      1200      0.22      1120      0.37      1850  "
      ]
     },
     "execution_count": 10,
     "metadata": {},
     "output_type": "execute_result"
    }
   ],
   "source": [
    "df"
   ]
  },
  {
   "cell_type": "code",
   "execution_count": 6,
   "metadata": {},
   "outputs": [
    {
     "data": {
      "text/plain": [
       "'./data/well_data.csv'"
      ]
     },
     "execution_count": 6,
     "metadata": {},
     "output_type": "execute_result"
    }
   ],
   "source": [
    "# Se ha reiniciado el estado, por lo que se debe volver a importar pandas y crear el archivo desde cero.\n",
    "\n",
    "import pandas as pd\n",
    "\n",
    "# Crear el DataFrame con los datos proporcionados\n",
    "data = {\n",
    "    \"index\": [0, 1, 2, 3, 4],\n",
    "    \"q_ing_w1\": [125.00, 250.00, 500.00, 625.00, 875.00],\n",
    "    \"fluid_w1\": [0.00, 186.42, 216.41, 194.81, 127.12],\n",
    "    \"q_ing_w2\": [575.00, 625.00, 750.00, 825.00, 950.00],\n",
    "    \"fluid_w2\": [0.00, 392.50, 427.47, 432.50, 432.08],\n",
    "    \"q_ing_w3\": [275.00, 325.00, 400.00, 575.00, 800.00],\n",
    "    \"fluid_w3\": [0.00, 432.50, 530.00, 604.99, 620.82],\n",
    "    \"q_ing_w4\": [375.00, 400.00, 550.00, 600.00, 775.00],\n",
    "    \"fluid_w4\": [0.00, 40.00, 382.37, 387.11, 333.25],\n",
    "}\n",
    "\n",
    "df = pd.DataFrame(data)\n",
    "\n",
    "# Guardar en CSV\n",
    "csv_path = \"./data/well_data.csv\"\n",
    "df.to_csv(csv_path, index=False)\n",
    "\n",
    "csv_path"
   ]
  },
  {
   "cell_type": "code",
   "execution_count": 8,
   "metadata": {},
   "outputs": [],
   "source": [
    "import numpy as np\n",
    "a = np.array([[3,40,5],[6,7,8]])"
   ]
  },
  {
   "cell_type": "code",
   "execution_count": 9,
   "metadata": {},
   "outputs": [
    {
     "data": {
      "text/plain": [
       "40"
      ]
     },
     "execution_count": 9,
     "metadata": {},
     "output_type": "execute_result"
    }
   ],
   "source": [
    "a.max()"
   ]
  },
  {
   "cell_type": "code",
   "execution_count": 10,
   "metadata": {},
   "outputs": [],
   "source": [
    "import pandas as pd\n",
    "import numpy as np "
   ]
  },
  {
   "cell_type": "code",
   "execution_count": 13,
   "metadata": {},
   "outputs": [],
   "source": [
    "df = pd.DataFrame([[1,2],[3,4]], columns=['A','B'])"
   ]
  },
  {
   "cell_type": "code",
   "execution_count": 14,
   "metadata": {},
   "outputs": [
    {
     "data": {
      "text/html": [
       "<div>\n",
       "<style scoped>\n",
       "    .dataframe tbody tr th:only-of-type {\n",
       "        vertical-align: middle;\n",
       "    }\n",
       "\n",
       "    .dataframe tbody tr th {\n",
       "        vertical-align: top;\n",
       "    }\n",
       "\n",
       "    .dataframe thead th {\n",
       "        text-align: right;\n",
       "    }\n",
       "</style>\n",
       "<table border=\"1\" class=\"dataframe\">\n",
       "  <thead>\n",
       "    <tr style=\"text-align: right;\">\n",
       "      <th></th>\n",
       "      <th>A</th>\n",
       "      <th>B</th>\n",
       "    </tr>\n",
       "  </thead>\n",
       "  <tbody>\n",
       "    <tr>\n",
       "      <th>0</th>\n",
       "      <td>1</td>\n",
       "      <td>2</td>\n",
       "    </tr>\n",
       "    <tr>\n",
       "      <th>1</th>\n",
       "      <td>3</td>\n",
       "      <td>4</td>\n",
       "    </tr>\n",
       "  </tbody>\n",
       "</table>\n",
       "</div>"
      ],
      "text/plain": [
       "   A  B\n",
       "0  1  2\n",
       "1  3  4"
      ]
     },
     "execution_count": 14,
     "metadata": {},
     "output_type": "execute_result"
    }
   ],
   "source": [
    "df"
   ]
  },
  {
   "cell_type": "code",
   "execution_count": 15,
   "metadata": {},
   "outputs": [
    {
     "data": {
      "text/plain": [
       "[1, 3]"
      ]
     },
     "execution_count": 15,
     "metadata": {},
     "output_type": "execute_result"
    }
   ],
   "source": [
    "df['A'].tolist()"
   ]
  },
  {
   "cell_type": "code",
   "execution_count": 21,
   "metadata": {},
   "outputs": [
    {
     "data": {
      "text/plain": [
       "[[1, 2], [3, 4]]"
      ]
     },
     "execution_count": 21,
     "metadata": {},
     "output_type": "execute_result"
    }
   ],
   "source": [
    "df.iloc[: , :].to_numpy().tolist()"
   ]
  },
  {
   "cell_type": "code",
   "execution_count": 2,
   "metadata": {},
   "outputs": [],
   "source": [
    "import numpy as np"
   ]
  },
  {
   "cell_type": "code",
   "execution_count": 4,
   "metadata": {},
   "outputs": [
    {
     "data": {
      "text/plain": [
       "[0.0,\n",
       " 0.5555555555555556,\n",
       " 1.1111111111111112,\n",
       " 1.6666666666666667,\n",
       " 2.2222222222222223,\n",
       " 2.7777777777777777,\n",
       " 3.3333333333333335,\n",
       " 3.8888888888888893,\n",
       " 4.444444444444445,\n",
       " 5.0]"
      ]
     },
     "execution_count": 4,
     "metadata": {},
     "output_type": "execute_result"
    }
   ],
   "source": [
    "np.linspace(0, 5, 10).tolist() "
   ]
  },
  {
   "cell_type": "code",
   "execution_count": 7,
   "metadata": {},
   "outputs": [],
   "source": [
    "a = np.array([[1,2],[4,5]])"
   ]
  },
  {
   "cell_type": "code",
   "execution_count": 9,
   "metadata": {},
   "outputs": [
    {
     "data": {
      "text/plain": [
       "2"
      ]
     },
     "execution_count": 9,
     "metadata": {},
     "output_type": "execute_result"
    }
   ],
   "source": [
    "a[0][1]"
   ]
  },
  {
   "cell_type": "code",
   "execution_count": 2,
   "metadata": {},
   "outputs": [
    {
     "name": "stderr",
     "output_type": "stream",
     "text": [
      "C:\\Users\\djper\\AppData\\Local\\Temp\\ipykernel_25176\\2347305088.py:2: MovedIn20Warning: The ``declarative_base()`` function is now available as sqlalchemy.orm.declarative_base(). (deprecated since: 2.0) (Background on SQLAlchemy 2.0 at: https://sqlalche.me/e/b8d9)\n",
      "  Base = declarative_base()\n"
     ]
    }
   ],
   "source": [
    "from sqlalchemy.ext.declarative import declarative_base\n",
    "Base = declarative_base()"
   ]
  },
  {
   "cell_type": "code",
   "execution_count": null,
   "metadata": {},
   "outputs": [],
   "source": [
    "import pandas as pd\n",
    "import numpy as np"
   ]
  },
  {
   "cell_type": "code",
   "execution_count": null,
   "metadata": {},
   "outputs": [],
   "source": [
    "# dame un dataframe de 10 filas y 2 columnas con valores aleatorios entre 0 y 1\n",
    "df = pd.DataFrame(np.random.rand(10, 2), columns=['A', 'B'])"
   ]
  },
  {
   "cell_type": "code",
   "execution_count": 3,
   "metadata": {},
   "outputs": [],
   "source": [
    "import pandas as pd"
   ]
  },
  {
   "cell_type": "code",
   "execution_count": 8,
   "metadata": {},
   "outputs": [],
   "source": [
    "# leer csv\n",
    "df = pd.read_csv('../data/gl_nishikiori_data_five_version_01.csv', sep=';')"
   ]
  },
  {
   "cell_type": "code",
   "execution_count": 9,
   "metadata": {},
   "outputs": [
    {
     "data": {
      "text/html": [
       "<div>\n",
       "<style scoped>\n",
       "    .dataframe tbody tr th:only-of-type {\n",
       "        vertical-align: middle;\n",
       "    }\n",
       "\n",
       "    .dataframe tbody tr th {\n",
       "        vertical-align: top;\n",
       "    }\n",
       "\n",
       "    .dataframe thead th {\n",
       "        text-align: right;\n",
       "    }\n",
       "</style>\n",
       "<table border=\"1\" class=\"dataframe\">\n",
       "  <thead>\n",
       "    <tr style=\"text-align: right;\">\n",
       "      <th></th>\n",
       "      <th>description</th>\n",
       "      <th>Unnamed: 1</th>\n",
       "      <th>Unnamed: 2</th>\n",
       "      <th>Unnamed: 3</th>\n",
       "      <th>Unnamed: 4</th>\n",
       "      <th>Unnamed: 5</th>\n",
       "      <th>Unnamed: 6</th>\n",
       "      <th>Unnamed: 7</th>\n",
       "      <th>Unnamed: 8</th>\n",
       "      <th>Unnamed: 9</th>\n",
       "      <th>Unnamed: 10</th>\n",
       "    </tr>\n",
       "  </thead>\n",
       "  <tbody>\n",
       "    <tr>\n",
       "      <th>0</th>\n",
       "      <td>field</td>\n",
       "      <td>well_1</td>\n",
       "      <td>well_2</td>\n",
       "      <td>well_3</td>\n",
       "      <td>well_4</td>\n",
       "      <td>well_5</td>\n",
       "      <td>NaN</td>\n",
       "      <td>NaN</td>\n",
       "      <td>NaN</td>\n",
       "      <td>NaN</td>\n",
       "      <td>NaN</td>\n",
       "    </tr>\n",
       "    <tr>\n",
       "      <th>1</th>\n",
       "      <td>field001</td>\n",
       "      <td>w001</td>\n",
       "      <td>w002</td>\n",
       "      <td>w003</td>\n",
       "      <td>w004</td>\n",
       "      <td>w005</td>\n",
       "      <td>NaN</td>\n",
       "      <td>NaN</td>\n",
       "      <td>NaN</td>\n",
       "      <td>NaN</td>\n",
       "      <td>NaN</td>\n",
       "    </tr>\n",
       "    <tr>\n",
       "      <th>2</th>\n",
       "      <td>index</td>\n",
       "      <td>q_ing_w1</td>\n",
       "      <td>fluid_w1</td>\n",
       "      <td>q_ing_w2</td>\n",
       "      <td>fluid_w2</td>\n",
       "      <td>q_ing_w3</td>\n",
       "      <td>fluid_w3</td>\n",
       "      <td>q_ing_w4</td>\n",
       "      <td>fluid_w4</td>\n",
       "      <td>q_ing_w5</td>\n",
       "      <td>fluid_w5</td>\n",
       "    </tr>\n",
       "    <tr>\n",
       "      <th>3</th>\n",
       "      <td>1</td>\n",
       "      <td>0</td>\n",
       "      <td>1449</td>\n",
       "      <td>1132</td>\n",
       "      <td>4277</td>\n",
       "      <td>1570</td>\n",
       "      <td>5886</td>\n",
       "      <td>1415</td>\n",
       "      <td>3538</td>\n",
       "      <td>321</td>\n",
       "      <td>1605</td>\n",
       "    </tr>\n",
       "    <tr>\n",
       "      <th>4</th>\n",
       "      <td>2</td>\n",
       "      <td>321</td>\n",
       "      <td>2162</td>\n",
       "      <td>2041</td>\n",
       "      <td>5462</td>\n",
       "      <td>2885</td>\n",
       "      <td>7720</td>\n",
       "      <td>2479</td>\n",
       "      <td>4468</td>\n",
       "      <td>1161</td>\n",
       "      <td>3481</td>\n",
       "    </tr>\n",
       "    <tr>\n",
       "      <th>5</th>\n",
       "      <td>3</td>\n",
       "      <td>932</td>\n",
       "      <td>2734</td>\n",
       "      <td>3252</td>\n",
       "      <td>6383</td>\n",
       "      <td>4719</td>\n",
       "      <td>9264</td>\n",
       "      <td>3939</td>\n",
       "      <td>5230</td>\n",
       "      <td>2434</td>\n",
       "      <td>4760</td>\n",
       "    </tr>\n",
       "    <tr>\n",
       "      <th>6</th>\n",
       "      <td>4</td>\n",
       "      <td>1867</td>\n",
       "      <td>3161</td>\n",
       "      <td>4792</td>\n",
       "      <td>7032</td>\n",
       "      <td>7080</td>\n",
       "      <td>10390</td>\n",
       "      <td>5899</td>\n",
       "      <td>5856</td>\n",
       "      <td>4468</td>\n",
       "      <td>5970</td>\n",
       "    </tr>\n",
       "    <tr>\n",
       "      <th>7</th>\n",
       "      <td>5</td>\n",
       "      <td>3163</td>\n",
       "      <td>3459</td>\n",
       "      <td>6710</td>\n",
       "      <td>7460</td>\n",
       "      <td>10036</td>\n",
       "      <td>11158</td>\n",
       "      <td>8325</td>\n",
       "      <td>6244</td>\n",
       "      <td>7426</td>\n",
       "      <td>6974</td>\n",
       "    </tr>\n",
       "    <tr>\n",
       "      <th>8</th>\n",
       "      <td>6</td>\n",
       "      <td>4902</td>\n",
       "      <td>3675</td>\n",
       "      <td>9029</td>\n",
       "      <td>7678</td>\n",
       "      <td>13500</td>\n",
       "      <td>11481</td>\n",
       "      <td>11393</td>\n",
       "      <td>6507</td>\n",
       "      <td>11432</td>\n",
       "      <td>7689</td>\n",
       "    </tr>\n",
       "    <tr>\n",
       "      <th>9</th>\n",
       "      <td>7</td>\n",
       "      <td>7211</td>\n",
       "      <td>3839</td>\n",
       "      <td>11831</td>\n",
       "      <td>7752</td>\n",
       "      <td>17895</td>\n",
       "      <td>11725</td>\n",
       "      <td>15276</td>\n",
       "      <td>6683</td>\n",
       "      <td>16673</td>\n",
       "      <td>8136</td>\n",
       "    </tr>\n",
       "    <tr>\n",
       "      <th>10</th>\n",
       "      <td>8</td>\n",
       "      <td>10134</td>\n",
       "      <td>3921</td>\n",
       "      <td>15307</td>\n",
       "      <td>7769</td>\n",
       "      <td>23196</td>\n",
       "      <td>11772</td>\n",
       "      <td>19830</td>\n",
       "      <td>6674</td>\n",
       "      <td>23648</td>\n",
       "      <td>8447</td>\n",
       "    </tr>\n",
       "    <tr>\n",
       "      <th>11</th>\n",
       "      <td>10</td>\n",
       "      <td>NaN</td>\n",
       "      <td>NaN</td>\n",
       "      <td>NaN</td>\n",
       "      <td>NaN</td>\n",
       "      <td>NaN</td>\n",
       "      <td>NaN</td>\n",
       "      <td>NaN</td>\n",
       "      <td>NaN</td>\n",
       "      <td>43979</td>\n",
       "      <td>8566</td>\n",
       "    </tr>\n",
       "    <tr>\n",
       "      <th>12</th>\n",
       "      <td>11</td>\n",
       "      <td>NaN</td>\n",
       "      <td>NaN</td>\n",
       "      <td>NaN</td>\n",
       "      <td>NaN</td>\n",
       "      <td>NaN</td>\n",
       "      <td>NaN</td>\n",
       "      <td>NaN</td>\n",
       "      <td>NaN</td>\n",
       "      <td>58444</td>\n",
       "      <td>8454</td>\n",
       "    </tr>\n",
       "  </tbody>\n",
       "</table>\n",
       "</div>"
      ],
      "text/plain": [
       "   description Unnamed: 1 Unnamed: 2 Unnamed: 3 Unnamed: 4 Unnamed: 5  \\\n",
       "0        field     well_1     well_2     well_3     well_4     well_5   \n",
       "1     field001       w001       w002       w003       w004       w005   \n",
       "2        index   q_ing_w1   fluid_w1   q_ing_w2   fluid_w2   q_ing_w3   \n",
       "3            1          0       1449       1132       4277       1570   \n",
       "4            2        321       2162       2041       5462       2885   \n",
       "5            3        932       2734       3252       6383       4719   \n",
       "6            4       1867       3161       4792       7032       7080   \n",
       "7            5       3163       3459       6710       7460      10036   \n",
       "8            6       4902       3675       9029       7678      13500   \n",
       "9            7       7211       3839      11831       7752      17895   \n",
       "10           8      10134       3921      15307       7769      23196   \n",
       "11          10        NaN        NaN        NaN        NaN        NaN   \n",
       "12          11        NaN        NaN        NaN        NaN        NaN   \n",
       "\n",
       "   Unnamed: 6 Unnamed: 7 Unnamed: 8 Unnamed: 9 Unnamed: 10  \n",
       "0         NaN        NaN        NaN        NaN         NaN  \n",
       "1         NaN        NaN        NaN        NaN         NaN  \n",
       "2    fluid_w3   q_ing_w4   fluid_w4   q_ing_w5    fluid_w5  \n",
       "3        5886       1415       3538        321        1605  \n",
       "4        7720       2479       4468       1161        3481  \n",
       "5        9264       3939       5230       2434        4760  \n",
       "6       10390       5899       5856       4468        5970  \n",
       "7       11158       8325       6244       7426        6974  \n",
       "8       11481      11393       6507      11432        7689  \n",
       "9       11725      15276       6683      16673        8136  \n",
       "10      11772      19830       6674      23648        8447  \n",
       "11        NaN        NaN        NaN      43979        8566  \n",
       "12        NaN        NaN        NaN      58444        8454  "
      ]
     },
     "execution_count": 9,
     "metadata": {},
     "output_type": "execute_result"
    }
   ],
   "source": [
    "df"
   ]
  },
  {
   "cell_type": "code",
   "execution_count": 9,
   "metadata": {},
   "outputs": [
    {
     "data": {
      "text/plain": [
       "array([   10,    12,    14,    17,    21,    25,    30,    37,    44,\n",
       "          54,    65,    78,    94,   114,   138,   166,   200,   242,\n",
       "         292,   352,   425,   513,   618,   746,   900,  1086,  1310,\n",
       "        1580,  1906,  2299,  2774,  3346,  4036,  4869,  5873,  7084,\n",
       "        8546, 10308, 12435, 15000])"
      ]
     },
     "execution_count": 9,
     "metadata": {},
     "output_type": "execute_result"
    }
   ],
   "source": [
    "import numpy as np\n",
    "np.logspace(1, np.log10(15000), 40, dtype=int)"
   ]
  },
  {
   "cell_type": "code",
   "execution_count": null,
   "metadata": {},
   "outputs": [
    {
     "data": {
      "text/plain": [
       "['__abstract__',\n",
       " '__class__',\n",
       " '__delattr__',\n",
       " '__dict__',\n",
       " '__dir__',\n",
       " '__doc__',\n",
       " '__eq__',\n",
       " '__format__',\n",
       " '__ge__',\n",
       " '__getattribute__',\n",
       " '__gt__',\n",
       " '__hash__',\n",
       " '__init__',\n",
       " '__init_subclass__',\n",
       " '__le__',\n",
       " '__lt__',\n",
       " '__module__',\n",
       " '__ne__',\n",
       " '__new__',\n",
       " '__reduce__',\n",
       " '__reduce_ex__',\n",
       " '__repr__',\n",
       " '__setattr__',\n",
       " '__sizeof__',\n",
       " '__str__',\n",
       " '__subclasshook__',\n",
       " '__weakref__',\n",
       " '_sa_registry',\n",
       " 'metadata',\n",
       " 'registry']"
      ]
     },
     "execution_count": 3,
     "metadata": {},
     "output_type": "execute_result"
    },
    {
     "ename": "",
     "evalue": "",
     "output_type": "error",
     "traceback": [
      "\u001b[1;31mThe Kernel crashed while executing code in the current cell or a previous cell. \n",
      "\u001b[1;31mPlease review the code in the cell(s) to identify a possible cause of the failure. \n",
      "\u001b[1;31mClick <a href='https://aka.ms/vscodeJupyterKernelCrash'>here</a> for more info. \n",
      "\u001b[1;31mView Jupyter <a href='command:jupyter.viewOutput'>log</a> for further details."
     ]
    }
   ],
   "source": [
    "# ver atributos y metodos que posee\n",
    "dir(Base)"
   ]
  }
 ],
 "metadata": {
  "kernelspec": {
   "display_name": "dscience",
   "language": "python",
   "name": "python3"
  },
  "language_info": {
   "codemirror_mode": {
    "name": "ipython",
    "version": 3
   },
   "file_extension": ".py",
   "mimetype": "text/x-python",
   "name": "python",
   "nbconvert_exporter": "python",
   "pygments_lexer": "ipython3",
   "version": "3.9.19"
  }
 },
 "nbformat": 4,
 "nbformat_minor": 2
}
